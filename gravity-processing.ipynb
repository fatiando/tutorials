{
 "cells": [
  {
   "cell_type": "markdown",
   "id": "fc5e3a88",
   "metadata": {
    "tags": []
   },
   "source": [
    "# Processing and gridding gravity data with Fatiando a Terra\n",
    "\n",
    "**Authors:**\n",
    "[Santiago Soler](https://github.com/santisoler),\n",
    "[Andrea Balza Morales](https://github.com/andieie),\n",
    "[Agustina Pesce](https://github.com/aguspesce),\n",
    "[Leonardo Uieda](https://github.com/leouieda)\n",
    "\n",
    "    \n",
    "In this tutorial, we will walk through the steps of transforming observed absolute gravity measurements into a grid of residual gravity disturbances at a constant height. On our way there, we will showcase some of the core utilities of many of our open-source libraries:\n",
    "\n",
    "1. Fetch and cache the data using [Ensaio](https://github.com/fatiando/ensaio) or [Pooch](https://github.com/fatiando/pooch)\n",
    "1. Calculate the gravity disturbance using [Boule](https://github.com/fatiando/boule)\n",
    "1. Interpolate data and apply map projections to grids using [Verde](https://github.com/fatiando/verde)\n",
    "1. Perform topographic correction and equivalent-source interpolation using [Harmonica](https://github.com/fatiando/harmonica)"
   ]
  },
  {
   "cell_type": "markdown",
   "id": "11bc350f",
   "metadata": {
    "tags": []
   },
   "source": [
    "## Study area\n",
    "\n",
    "The **Bushveld Igneous Complex** is located in South Africa and is the largest known layered igneous intrusion. It has been tilted and eroded forming the outcrops around what appears to be the edge of a great geological basin: the Transvaal Basin. It is approximately 2 billion years old and is divided into four different limbs: the northern, southern, eastern, and western limbs. The Bushveld Complex comprises the Rustenburg Layered suite, the Lebowa Granites and the Rooiberg Felsics, that are overlain by the Karoo sediments. See [Webb et al. (2004)](https://doi.org/10.2113/107.1-2.207) for an overview and previous interpretations of the Bushveld in depth.\n",
    "\n",
    "<figure>\n",
    "<img src=\"images/bushveld_igneous_complex_geology.jpg\" alt=\"Geologic map of the Bushveld Complex\">\n",
    "<figcaption><em>\n",
    "    Geology and mineral exploration sites of the Bushveld Igneous Complex \n",
    "    (<a href=\"https://en.wikipedia.org/wiki/File:Bushveld_Igneous_Complex.png\">public domain</a>).\n",
    "</em></figcaption>\n",
    "</figure>"
   ]
  },
  {
   "cell_type": "markdown",
   "id": "b6c388c7",
   "metadata": {},
   "source": [
    "## Import packages\n",
    "\n",
    "Start by loading everything we need."
   ]
  },
  {
   "cell_type": "code",
   "execution_count": null,
   "id": "1ad9211c",
   "metadata": {},
   "outputs": [],
   "source": [
    "# The standard Python science stack\n",
    "import numpy as np\n",
    "import pandas as pd\n",
    "import xarray as xr\n",
    "\n",
    "# For projections (wrapped for Proj)\n",
    "import pyproj\n",
    "\n",
    "# Plotting maps using GMT\n",
    "import pygmt\n",
    "\n",
    "# The Fatiando stack\n",
    "import ensaio\n",
    "import pooch\n",
    "import verde as vd\n",
    "import boule as bl\n",
    "import harmonica as hm"
   ]
  },
  {
   "cell_type": "markdown",
   "id": "760f6348",
   "metadata": {},
   "source": [
    "## Fetch the data\n",
    "The three data sets required are:\n",
    "- Gravity\n",
    "- Topography \n",
    "- Global geoid model \n",
    "\n",
    "The global geoid model (co-registered with our topography grid) will be use to convert the topography from orthometric (referenced to \"sea level\" or the geoid) to geometric (referenced to the WGS84 ellipsoid) heights. This conversion is required to calculate gravity disturbances instead of anomalies (more on that below).\n",
    "\n",
    "For downloading the data we can use two options: using **Ensaio** or using directly **Pooch**.\n",
    "\n",
    "\n",
    "\n"
   ]
  },
  {
   "cell_type": "markdown",
   "id": "04a7dac2-9fe3-479a-9b79-bad6747fde5c",
   "metadata": {},
   "source": [
    "### Downloading data using Ensaio\n",
    "[Ensaio](https://github.com/fatiando/ensaio) (Portuguese for \"rehearsal\") is a Python package for downloading open-access sample datasets for Geoscience, specifically from the [Fatiando a Terra Datasets](https://github.com/fatiando-data) collection. To see available datasets with a short description of each, you can visit the [documentation](https://www.fatiando.org/ensaio/latest/gallery/index.html).\n",
    "Ensaio provides functions for downloading datasets from to your computer. These functions don’t attempt to do any loading of the data into memory and only return the path of the downloaded file on your computer."
   ]
  },
  {
   "cell_type": "code",
   "execution_count": null,
   "id": "b3510a6b-e792-47a8-9ab8-01baba4b5131",
   "metadata": {},
   "outputs": [],
   "source": [
    "path_gravity = ensaio.fetch_southern_africa_gravity(version=1)\n",
    "path_topography = ensaio.fetch_earth_topography(version=1)\n",
    "path_geoid  = ensaio.fetch_earth_geoid(version=1)\n",
    "\n",
    "print(path_gravity)\n",
    "print(path_topography)\n",
    "print(path_geoid)\n"
   ]
  },
  {
   "cell_type": "markdown",
   "id": "0839d7ba-bd57-46ea-9aec-84ec073a55aa",
   "metadata": {},
   "source": [
    "Ensaio uses [Pooch](https://www.fatiando.org/pooch) under the hood to manage downloading and caching the data on your computer. Therefore, the other option is to use *Pooch* directly. "
   ]
  },
  {
   "cell_type": "markdown",
   "id": "1739a58c-4865-486d-8db2-d34d3deb3971",
   "metadata": {},
   "source": [
    "### Downloading data using Pooch\n",
    "[Pooch](https://www.fatiando.org/pooch) is a more general tool to download data files from anywhere on the web and store them locally for reuse. It is used to manage sample data downloads not only by our own tools but also other popular Scientific Python libraries like [scikit-image](https://github.com/scikit-image/scikit-image), [xarray](https://github.com/pydata/xarray) among others.\n",
    "To download the data from our [curated sample datasets](https://zenodo.org/record/5167357#.YiJYLOiIaHs) stored on [Zenodo](https://zenodo.org/) we need the Digital Object Identifier (DOI) of the Zenodo data archive:"
   ]
  },
  {
   "cell_type": "markdown",
   "id": "0c534ba1-de0a-4a91-a540-9920c33bcfa0",
   "metadata": {},
   "source": [
    "    doi = \"10.5281/zenodo.5167357\"\n",
    "    path_gravity = pooch.retrieve(\n",
    "        f\"doi:{doi}/southern-africa-gravity.csv.xz\", \n",
    "        known_hash=\"md5:1dee324a14e647855366d6eb01a1ef35\",\n",
    "    )\n",
    "    path_topography = pooch.retrieve(\n",
    "        f\"doi:{doi}/earth-topography-10arcmin.nc\", \n",
    "        known_hash=\"md5:c43b61322e03669c4313ba3d9a58028d\",\n",
    "    )\n",
    "    path_geoid = pooch.retrieve(\n",
    "        f\"doi:{doi}/earth-geoid-10arcmin.nc\", \n",
    "        known_hash=\"md5:39b97344e704eb68fa381df2eb47da0f\",\n",
    "    )\n",
    "    print(path_gravity)\n",
    "    print(path_topography)\n",
    "    print(path_geoid)\n"
   ]
  },
  {
   "cell_type": "markdown",
   "id": "cad2d904-11ea-49d8-9d3c-d7514f4bda9a",
   "metadata": {},
   "source": [
    "Whether you use Ensaio or Pooch directly, you will have the same datasets, the only difference is in the paths to the location of the files."
   ]
  },
  {
   "cell_type": "markdown",
   "id": "5d5bcbaf",
   "metadata": {},
   "source": [
    "## Load the data\n",
    "\n",
    "Now that the data files have been downloaded and cached to our computer, we can use standard Python libraries to load the data.\n",
    "\n",
    "Use [Pandas](https://pandas.pydata.org/) to read the gravity data from the compressed CSV file."
   ]
  },
  {
   "cell_type": "code",
   "execution_count": null,
   "id": "f2b72dd3",
   "metadata": {},
   "outputs": [],
   "source": [
    "data = pd.read_csv(path_gravity)\n",
    "data"
   ]
  },
  {
   "cell_type": "markdown",
   "id": "a14a9746",
   "metadata": {},
   "source": [
    "And use [xarray](https://xarray.pydata.org/) to read the topography and geoid grids from the netCDF files."
   ]
  },
  {
   "cell_type": "code",
   "execution_count": null,
   "id": "01369dec",
   "metadata": {},
   "outputs": [],
   "source": [
    "topography = xr.load_dataarray(path_topography)\n",
    "topography"
   ]
  },
  {
   "cell_type": "code",
   "execution_count": null,
   "id": "4a2e3bee",
   "metadata": {},
   "outputs": [],
   "source": [
    "geoid = xr.load_dataarray(path_geoid)\n",
    "geoid"
   ]
  },
  {
   "cell_type": "markdown",
   "id": "79c23eba",
   "metadata": {},
   "source": [
    "## Crop the data to the Bushveld\n",
    "\n",
    "The grids are global and the gravity data covers all of Southern Africa. So before we start working we'll need to crop the data to the immediate region around the Bushveld complex. For the topography and geoid grids, we'll use a larger region to avoid edge effects in the topographic correction."
   ]
  },
  {
   "cell_type": "code",
   "execution_count": null,
   "id": "76270a1c",
   "metadata": {},
   "outputs": [],
   "source": [
    "# West, East, South, North (degrees)\n",
    "region = (25, 32, -27, -23)\n",
    "# Pad the region for slicing the grids\n",
    "region_pad = vd.pad_region(region, pad=5)"
   ]
  },
  {
   "cell_type": "markdown",
   "id": "99600174",
   "metadata": {},
   "source": [
    "To slice a `pandas.DataFrame`, we can use [Verde](https://www.fatiando.org/verde/)'s `inside` function to get the index of all points falling inside the given region."
   ]
  },
  {
   "cell_type": "code",
   "execution_count": null,
   "id": "0df7b61a",
   "metadata": {},
   "outputs": [],
   "source": [
    "data = data[vd.inside((data.longitude, data.latitude), region)]\n",
    "data"
   ]
  },
  {
   "cell_type": "markdown",
   "id": "34596b4c",
   "metadata": {},
   "source": [
    "For the grids, we use the `sel` method of the `xarray.DataArray` objects directly (one of the many perks of using xarray for gridded data)."
   ]
  },
  {
   "cell_type": "code",
   "execution_count": null,
   "id": "3ae4511f",
   "metadata": {},
   "outputs": [],
   "source": [
    "geoid = geoid.sel(longitude=slice(*region_pad[:2]), latitude=slice(*region_pad[2:]))\n",
    "topography = topography.sel(longitude=slice(*region_pad[:2]), latitude=slice(*region_pad[2:]))\n",
    "topography"
   ]
  },
  {
   "cell_type": "markdown",
   "id": "50ccb369",
   "metadata": {},
   "source": [
    "## Plot the data\n",
    "\n",
    "Use [PyGMT](https://www.pygmt.org) to plot the data so we can see what we have. PyGMT is particularly well suited for dealing with spatial data, maps, and projections."
   ]
  },
  {
   "cell_type": "code",
   "execution_count": null,
   "id": "7e557301",
   "metadata": {},
   "outputs": [],
   "source": [
    "fig = pygmt.Figure()\n",
    "pygmt.makecpt(cmap=\"viridis\", series=[data.gravity_mgal.min(), data.gravity_mgal.max()])\n",
    "fig.plot(\n",
    "    x=data.longitude,\n",
    "    y=data.latitude,\n",
    "    color=data.gravity_mgal,\n",
    "    cmap=True,\n",
    "    style=\"c4p\",\n",
    "    projection=\"M15c\", \n",
    "    frame=\"afg\",\n",
    ")\n",
    "fig.colorbar(frame='af+l\"observed gravity [mGal]\"')\n",
    "fig.show()"
   ]
  },
  {
   "cell_type": "markdown",
   "id": "f8dc5030",
   "metadata": {},
   "source": [
    "Also plot the topography grid with the data points overlaid so we can get a sense for how much topographic variation there is and how much we padded the grids."
   ]
  },
  {
   "cell_type": "code",
   "execution_count": null,
   "id": "925b1e66",
   "metadata": {
    "tags": []
   },
   "outputs": [],
   "source": [
    "fig = pygmt.Figure()\n",
    "fig.grdimage(topography, projection=\"M15c\", cmap=\"etopo1\", frame=True)\n",
    "fig.colorbar(frame='af+l\"topography [m]\"')\n",
    "fig.coast(shorelines=\"white\", area_thresh=1e6)\n",
    "fig.plot(\n",
    "    x=data.longitude,\n",
    "    y=data.latitude,\n",
    "    style=\"c0.04c\",\n",
    "    color=\"black\",\n",
    ")\n",
    "fig.show()"
   ]
  },
  {
   "cell_type": "markdown",
   "id": "6694f237",
   "metadata": {},
   "source": [
    "> **NOTE: This topography grid is not ideal for use with gravity processing.** The resolution of the grid is much coarser than our gravity data, which will cause under-correction when we remove the effect of the topography. For this example, we made the trade-off between a less-than-ideal dataset but one that is of manageable size. In practice, **always try to match the spatial resolution of the data and topography grid**."
   ]
  },
  {
   "cell_type": "markdown",
   "id": "a6c0c0f1",
   "metadata": {},
   "source": [
    "## Project the grids and data\n",
    "\n",
    "Since our study area is relatively small, we can use a map projection to transform our geographic data into a Cartesian coordinate system. This simplifies things like interpolation and topographic correction, which are often much faster if performed in Cartesian rather than spherical or geodetic coordinates.\n",
    "\n",
    "We'll use [pyproj](https://github.com/pyproj4/pyproj) to create a Mercator projection function with latitude of true scale centered on the data."
   ]
  },
  {
   "cell_type": "code",
   "execution_count": null,
   "id": "d5866aff",
   "metadata": {},
   "outputs": [],
   "source": [
    "projection = pyproj.Proj(proj=\"merc\", lat_ts=data.latitude.mean())"
   ]
  },
  {
   "cell_type": "markdown",
   "id": "a7e28f4f",
   "metadata": {},
   "source": [
    "We can now use the `projection` to transform our gravity data and include the new coordinates in the `pandas.DataFrame`."
   ]
  },
  {
   "cell_type": "code",
   "execution_count": null,
   "id": "844f502f",
   "metadata": {},
   "outputs": [],
   "source": [
    "easting, northing = projection(data.longitude.values, data.latitude.values)\n",
    "data = data.assign(easting_m=easting, northing_m=northing)\n",
    "data"
   ]
  },
  {
   "cell_type": "markdown",
   "id": "0a923806",
   "metadata": {},
   "source": [
    "Projecting the grids is more complicated since it involves some interpolation to maintain evenly spaced grid nodes. Verde provides the `project_grid` function that performs all of these calculations automatically for us. We'll use nearest-neighbor interpolation here since it's faster and our project doesn't warp the data too much."
   ]
  },
  {
   "cell_type": "code",
   "execution_count": null,
   "id": "7ec88d4b",
   "metadata": {},
   "outputs": [],
   "source": [
    "topography_proj = vd.project_grid(topography, projection, method=\"nearest\")\n",
    "geoid_proj = vd.project_grid(geoid, projection, method=\"nearest\")\n",
    "topography_proj"
   ]
  },
  {
   "cell_type": "markdown",
   "id": "f427defb",
   "metadata": {},
   "source": [
    "## Reference heights to the ellipsoid\n",
    "\n",
    "Before we can calculate gravity disturbances, we need both the observation height and the topography to be referenced to the ellipsoid instead of \"sea level\" or the geoid. We can do that by adding the geoid height to the current heights."
   ]
  },
  {
   "cell_type": "code",
   "execution_count": null,
   "id": "0726ea3d",
   "metadata": {},
   "outputs": [],
   "source": [
    "topography_geometric = topography_proj + geoid_proj\n",
    "topography_geometric"
   ]
  },
  {
   "cell_type": "markdown",
   "id": "0990448e",
   "metadata": {},
   "source": [
    "For the observation heights, we have to interpolate the geoid height values at the same points as the observations. We can do this with the cubic interpolation in Verde."
   ]
  },
  {
   "cell_type": "code",
   "execution_count": null,
   "id": "79d93044",
   "metadata": {},
   "outputs": [],
   "source": [
    "# Unravel the grid so that we can pass it to the interpolator\n",
    "geoid_table = vd.grid_to_table(geoid_proj)\n",
    "interpolator = vd.ScipyGridder(method=\"cubic\")\n",
    "interpolator.fit((geoid_table.easting, geoid_table.northing), geoid_table.geoid)\n",
    "# Predict the geoid height at same locations as the observation points\n",
    "data = data.assign(geoid_m=interpolator.predict((data.easting_m, data.northing_m)))\n",
    "data = data.assign(height_geometric_m=data.height_sea_level_m + data.geoid_m)\n",
    "data"
   ]
  },
  {
   "cell_type": "markdown",
   "id": "cb1739eb",
   "metadata": {},
   "source": [
    "## Gravity disturbance\n",
    "\n",
    "The gravity disturbance is defined as:\n",
    "\n",
    "$$\n",
    "\\delta g (\\lambda, \\phi, h) = g (\\lambda, \\phi, h) - \\gamma (\\lambda, \\phi, h)\n",
    "$$\n",
    "\n",
    "in which $(\\lambda, \\phi, h)$ are the longitude, latitude, and geometric height, $g$ is the observed gravity acceleration, and $\\gamma$ is the calculated **normal gravity** of a reference ellipsoid. \n",
    "Notice that all 3 quantities are located at the same point (the observation point).\n",
    "\n",
    "> **A note on disturbances vs anomalies:** We want to calculate the disturbance $\\delta g(\\lambda, \\phi, h)$ instead of the traditional \"gravity anomaly\" $\\Delta g(\\lambda, \\phi) = g(\\lambda, \\phi, h=N) - \\gamma(\\lambda, \\phi, h=0)$ because the anomaly is not exclusively related to the subsurface density anomalies, while the gravity disturbance is. In fact, it does not even make sense to talk about the \"height of the gravity anomaly\" since by definition it is only variable in longitude and latitude. Most geophysicists will agree that, in practice, the \"height\" of observations matter for modeling and interpretation. In most cases, even if we calculate gravity anomalies, we end up pretending that they are gravity disturbances when interpreting the data. So why not calculate disturbances directly?\n",
    "\n",
    "We can use [Boule](https://www.fatiando.org/boule) to compute the **normal gravity** of the WGS84 reference ellipsoid on any point outside of the ellipsoid using a closed-form equation. This eliminates the need for a free-air correction, which is a rough approximation at best. With that, we can compute the gravity disturbance and store it in our `pandas.DataFrame`."
   ]
  },
  {
   "cell_type": "code",
   "execution_count": null,
   "id": "afe96395",
   "metadata": {},
   "outputs": [],
   "source": [
    "data = data.assign(\n",
    "    normal_gravity_mgal=bl.WGS84.normal_gravity(data.latitude, data.height_geometric_m)\n",
    ")\n",
    "data = data.assign(gravity_disturbance_mgal=data.gravity_mgal - data.normal_gravity_mgal)\n",
    "data"
   ]
  },
  {
   "cell_type": "markdown",
   "id": "4ae4c9aa",
   "metadata": {},
   "source": [
    "Now plot the gravity disturbance that we just calculated on a map."
   ]
  },
  {
   "cell_type": "code",
   "execution_count": null,
   "id": "918288d1",
   "metadata": {},
   "outputs": [],
   "source": [
    "fig = pygmt.Figure()\n",
    "maxabs = vd.maxabs(data.gravity_disturbance_mgal)\n",
    "pygmt.makecpt(cmap=\"polar+h\", series=[-maxabs, maxabs])\n",
    "fig.plot(\n",
    "    x=data.longitude,\n",
    "    y=data.latitude,\n",
    "    color=data.gravity_disturbance_mgal,\n",
    "    cmap=True,\n",
    "    style=\"c4p\",\n",
    "    projection=\"M15c\", \n",
    "    frame=\"af\",\n",
    ")\n",
    "fig.colorbar(frame='af+l\"gravity disturbance [mGal]\"')\n",
    "fig.show()"
   ]
  },
  {
   "cell_type": "markdown",
   "id": "f402353f",
   "metadata": {},
   "source": [
    "## Topographic correction\n",
    "\n",
    "Now that we have removed normal gravity and calculated a gravity disturbance, the next step is to remove the effect of the topographic and oceanic masses above and below the ellipsoid. We need to do this in order to isolate the effect of the Bushveld rocks.\n",
    "\n",
    "We will use [Harmonica](https://www.fatiando.org/harmonica) to calculate and remove the gravitational effect of the topography by modeling the masses as a layer of right-rectangular prisms.\n",
    "\n",
    "The `prism_layer` function creates a prism model based on a surface undulating around a reference level. In our case, the reference is the ellipsoid (0 height) and the surface is our topography (as geometric heights). The difficult part is assigning the correct density (or density contrast) to each part of our model:\n",
    "\n",
    "* $\\rho = 2670\\ kg/m^3$ for continental parts above the ellipsoid\n",
    "* $\\rho = -2670\\ kg/m^3$ for continental parts below the ellipsoid \n",
    "* $\\rho = 1040 - 2670\\ kg/m^3$ in the oceans (1040 being an approximate density of ocean water)\n",
    "\n",
    "Here we'll define \"continental\" as places with positive orthometric height since 0 orthometric height roughly matches the coastlines.\n",
    "\n",
    "<figure>\n",
    "<img src=\"images/topographic-correction.svg\" alt=\"Sketch of the surfaces and masses involved in topographic correction of gravity disturbances.\">\n",
    "<figcaption><em>\n",
    "    Sketch of the surfaces and masses involved in topographic correction of gravity disturbances. \n",
    "    (CC-BY).\n",
    "</em></figcaption>\n",
    "</figure>\n",
    "\n",
    "> **Note:** There is an extra effect of under- and over-correcting for ocean water in the oceans. This happens because we are assuming that the surface of the water is at 0 geometric height (the surface of the ellipsoid) when in fact it roughly follows the geoid. So in oceanic places where the geoid is below the ellipsoid, we correct for water where there was none and vice-versa. Luckily, this effect is negligible here since our study area is relatively far away from the ocean. We can safely ignore this correction but it should be performed when close to the coast or directly above the oceans."
   ]
  },
  {
   "cell_type": "code",
   "execution_count": null,
   "id": "5454d29c",
   "metadata": {},
   "outputs": [],
   "source": [
    "# Start by placing the continental density above and below the ellipsoid\n",
    "topography_density = np.where(topography_geometric > 0, 2670, -2670)\n",
    "# Now correct the value in the oceans (topography < 0)\n",
    "topography_density = np.where(topography_proj < 0, 1040 - 2670, topography_density)\n",
    "# Create the prism model of the topographic masses\n",
    "topography_model = hm.prism_layer(\n",
    "    coordinates=(topography_geometric.easting, topography_geometric.northing),\n",
    "    surface=topography_geometric,\n",
    "    reference=0,\n",
    "    properties={\"density\": topography_density}\n",
    ")\n",
    "topography_model"
   ]
  },
  {
   "cell_type": "markdown",
   "id": "4b2080c0",
   "metadata": {},
   "source": [
    "To help us visually what this correction is doing, let's take a look at the density that we assigned across our topographic model."
   ]
  },
  {
   "cell_type": "code",
   "execution_count": null,
   "id": "8284beb1",
   "metadata": {},
   "outputs": [],
   "source": [
    "fig = pygmt.Figure()\n",
    "scale = vd.maxabs(topography_model.density)\n",
    "pygmt.makecpt(cmap=\"roma+h\", reverse=True, series=[-scale, scale])\n",
    "fig.grdimage(topography_model.density, projection=\"X15c\", frame=True)\n",
    "fig.colorbar(frame='af+l\"Density of the prism model [kg/m3]\"')\n",
    "fig.show()"
   ]
  },
  {
   "cell_type": "markdown",
   "id": "71a97745",
   "metadata": {},
   "source": [
    "As prescribed by the model, the density is 2670 kg/m³ in the continents and 1040 - 2670 kg/m³ in the oceans. The exceptions are parts of the continents that are below 0 geometric height, which have a density of -2670 kg/m³."
   ]
  },
  {
   "cell_type": "markdown",
   "id": "b0122876",
   "metadata": {},
   "source": [
    "Now we can forward model the gravitational effect of the topographic/bathymetric masses at the data points and remove it from our gravity disturbance to calculate a **topography-free (Bouguer) disturbance**."
   ]
  },
  {
   "cell_type": "code",
   "execution_count": null,
   "id": "f6d64360",
   "metadata": {},
   "outputs": [],
   "source": [
    "coordinates = (data.easting_m, data.northing_m, data.height_geometric_m)\n",
    "data = data.assign(\n",
    "    terrain_effect_mgal=topography_model.prism_layer.gravity(coordinates, field=\"g_z\"),\n",
    ")\n",
    "data = data.assign(\n",
    "    gravity_bouguer_mgal=data.gravity_disturbance_mgal - data.terrain_effect_mgal\n",
    ")\n",
    "data"
   ]
  },
  {
   "cell_type": "markdown",
   "id": "6359d039",
   "metadata": {},
   "source": [
    "Plot the Bouguer disturbance on a map so we can see what we have."
   ]
  },
  {
   "cell_type": "code",
   "execution_count": null,
   "id": "0b404d59",
   "metadata": {},
   "outputs": [],
   "source": [
    "fig = pygmt.Figure()\n",
    "maxabs = vd.maxabs(data.gravity_bouguer_mgal)\n",
    "pygmt.makecpt(cmap=\"polar\", series=[-maxabs, maxabs])\n",
    "fig.plot(\n",
    "    x=data.longitude,\n",
    "    y=data.latitude,\n",
    "    color=data.gravity_bouguer_mgal,\n",
    "    cmap=True,\n",
    "    style=\"c4p\",\n",
    "    projection=\"M15c\", \n",
    "    frame=True,\n",
    ")\n",
    "fig.colorbar(frame='af+l\"Bouguer disturbance [mGal]\"')\n",
    "fig.show()"
   ]
  },
  {
   "cell_type": "markdown",
   "id": "2594add4",
   "metadata": {},
   "source": [
    "As expected, the values are mostly negative and are dominated by the Moho signal."
   ]
  },
  {
   "cell_type": "markdown",
   "id": "81d875b7",
   "metadata": {},
   "source": [
    "## Regional-residual separation\n",
    "\n",
    "\n",
    "Bouguer gravity is dominated by the effect of variations in Moho depth because it involves large density contrasts and thicknesses. If we want to see the signal from the shallower intrusions of the Bushveld (often called the **residual**), we'll need to remove the effect of the deeper and larger sources (often called the **regional**).\n",
    "\n",
    "Traditionally, this is done by fitting a low-degree 2D polynomial to the data and using it as the regional field. We could do this with `verde.Trend` but we'll use a different (and better) approach. The reason for not using a polynomial is that it doesn't take into account the variable height of the observations or the physical nature of the data (a potential field). \n",
    "\n",
    "A possible alternative would be to model and remove the Moho effect via an Airy isostasy model, which assumes that all topography is locally compensated by the Moho depth variation. This could be done with `harmonica.isostasy_airy` to calculate the Moho depth, followed by `harmonica.prism_layer` to calculate and remove its gravitational effect.\n",
    "\n",
    "Here, we will use a simpler approach with the **equivalent sources** present in Harmonica to fit a set of deep point sources to the data. \n",
    "\n",
    "<figure>\n",
    "<img src=\"images/equivalent-sources.svg\" alt=\"Sketch equivalent sources method to perform interpolation or predict residuals.\">\n",
    "<figcaption><em>\n",
    "    Sketch equivalent sources method to perform interpolation or predict residuals.\n",
    "    (CC-BY).\n",
    "</em></figcaption>\n",
    "</figure>\n",
    "\n",
    "Setting a large depth for the sources means that their field will be long-wavelength and is a good way to represent our regional. The choice of depth is somewhat subjective (as is the choice of polynomial degree) and will depend on the interpretation of the results.\n",
    "\n",
    "> **Note**: The equivalent sources approach may have trouble scaling to large datasets. New features in Harmonica are in development to account for this and should be released with the next version of the package. For the moment, it is recommended to pass the data through a `verde.BlockMean` prior to fitting the deep sources to avoid running out of memory."
   ]
  },
  {
   "cell_type": "code",
   "execution_count": null,
   "id": "0bad5588",
   "metadata": {},
   "outputs": [],
   "source": [
    "# Create a set of deep sources at a depth of 500 km\n",
    "deep_sources = hm.EquivalentSources(damping=1000, depth=500e3)\n",
    "# Fit the sources to the data\n",
    "deep_sources.fit((data.easting_m, data.northing_m, data.height_geometric_m), data.gravity_bouguer_mgal)\n",
    "\n",
    "# Use the sources to predict the regional field\n",
    "data = data.assign(\n",
    "    gravity_regional_mgal=deep_sources.predict((data.easting_m, data.northing_m, data.height_geometric_m))\n",
    ")\n",
    "# Calculate a residual field (which is what we want)\n",
    "data = data.assign(\n",
    "    gravity_residual_mgal=data.gravity_bouguer_mgal - data.gravity_regional_mgal\n",
    ")\n",
    "data"
   ]
  },
  {
   "cell_type": "markdown",
   "id": "f9770738",
   "metadata": {},
   "source": [
    "Plot a map of the residual field. This should resemble what we know about the geology of the Bushveld."
   ]
  },
  {
   "cell_type": "code",
   "execution_count": null,
   "id": "b2c9be34",
   "metadata": {},
   "outputs": [],
   "source": [
    "fig = pygmt.Figure()\n",
    "scale = vd.maxabs(data.gravity_residual_mgal)\n",
    "pygmt.makecpt(cmap=\"polar\", series=[-scale, scale])\n",
    "fig.plot(\n",
    "    x=data.longitude,\n",
    "    y=data.latitude,\n",
    "    color=data.gravity_residual_mgal,\n",
    "    cmap=True,\n",
    "    style=\"c5p\",\n",
    "    projection=\"M15c\", \n",
    "    frame=True,\n",
    ")\n",
    "fig.colorbar(frame='af+l\"residual field [mGal]\"')\n",
    "fig.show()"
   ]
  },
  {
   "cell_type": "markdown",
   "id": "078c6f74",
   "metadata": {},
   "source": [
    "## Grid the residuals\n",
    "\n",
    "Finally, we can create a regular grid of the residuals at a uniform height. This is a good way to aid visualization and would also allow us to do calculations involving Fourier transforms and other techniques that required gridded data.\n",
    "\n",
    "The best way to achieve this is, again, the **equivalent sources** in Harmonica. This method allows us to predict the data values on a grid at whatever height we wish (effectively upward-continuing the data), all in a single step. Since our goal here is to accurately model and predict the residual field, we'll use a shallower depth so that the sources can reproduce the short wavelengths in our data."
   ]
  },
  {
   "cell_type": "code",
   "execution_count": null,
   "id": "61aa34cc",
   "metadata": {},
   "outputs": [],
   "source": [
    "eqs = hm.EquivalentSources(damping=10, depth=10e3)\n",
    "eqs.fit((data.easting_m, data.northing_m, data.height_geometric_m), data.gravity_residual_mgal)"
   ]
  },
  {
   "cell_type": "markdown",
   "id": "3d17c30c",
   "metadata": {},
   "source": [
    "Now use the equivalent source model to predict data values on a regular grid at a uniform height. In this case, we will use a height that is slightly larger than the highest observation point to avoid downward continuation. As a bonus, we can pass the projection functions that we used earlier to generate a grid in **geographic coordinates** (longitude, latitude) instead of Cartesian."
   ]
  },
  {
   "cell_type": "code",
   "execution_count": null,
   "id": "0be45c57",
   "metadata": {},
   "outputs": [],
   "source": [
    "residual_grid = eqs.grid(\n",
    "    upward=2200,  # Height in meters\n",
    "    region=region,\n",
    "    spacing=2 / 60,  # Decimal degrees\n",
    "    data_names=[\"gravity_residual\"],\n",
    "    dims=(\"latitude\", \"longitude\"),\n",
    "    projection=projection,\n",
    ")\n",
    "residual_grid"
   ]
  },
  {
   "cell_type": "markdown",
   "id": "253b70b3",
   "metadata": {},
   "source": [
    "Plot the gridded residuals on a map and overlay the observation points. It's always important to know where the actual data points are so we can avoid interpreting features in the grid that are likely just an artifact of the data sampling. This is particularly important in areas with sparse and uneven data coverage."
   ]
  },
  {
   "cell_type": "code",
   "execution_count": null,
   "id": "89297169",
   "metadata": {},
   "outputs": [],
   "source": [
    "fig = pygmt.Figure()\n",
    "scale = vd.maxabs(residual_grid.gravity_residual)\n",
    "pygmt.makecpt(cmap=\"polar\", series=[-scale, scale], no_bg=True)\n",
    "fig.grdimage(\n",
    "    residual_grid.gravity_residual,\n",
    "    shading=\"+a45+nt0.15\",\n",
    "    projection=\"M15c\",\n",
    "    frame=True,\n",
    ")\n",
    "fig.colorbar(frame='af+l\"residual field [mGal]\"')\n",
    "fig.plot(\n",
    "    x=data.longitude,\n",
    "    y=data.latitude,\n",
    "    style=\"c0.02c\",\n",
    "    color=\"black\",\n",
    ")\n",
    "fig.show()"
   ]
  },
  {
   "cell_type": "markdown",
   "id": "56d771f1",
   "metadata": {},
   "source": [
    "## Where to go next\n",
    "\n",
    "**Congratulations!** You've now completed our gravity processing tutorial. Here are few things you can do now:\n",
    "\n",
    "* Try using your own data.\n",
    "* Change the values of certain parameters (topographic density, equivalent source depth, etc) and see what happens.\n",
    "* Learn more about the individual packages by reading their documentation: https://www.fatiando.org/learn"
   ]
  },
  {
   "cell_type": "markdown",
   "id": "1c2e66bf",
   "metadata": {},
   "source": [
    "---\n",
    "\n",
    "## License\n",
    "\n",
    "All Python source code is made available under the BSD 3-clause license. You\n",
    "can freely use and modify the code, without warranty, so long as you provide\n",
    "attribution to the authors.\n",
    "\n",
    "Unless otherwise specified, all figures and Jupyter notebooks are available\n",
    "under the Creative Commons Attribution 4.0 License (CC-BY).\n",
    "\n",
    "The full text of these licenses is provided in the [`LICENSE.txt`](LICENSE.txt)\n",
    "file."
   ]
  }
 ],
 "metadata": {
  "jupytext": {
   "formats": "ipynb,py:light"
  },
  "kernelspec": {
   "display_name": "Python 3 (ipykernel)",
   "language": "python",
   "name": "python3"
  },
  "language_info": {
   "codemirror_mode": {
    "name": "ipython",
    "version": 3
   },
   "file_extension": ".py",
   "mimetype": "text/x-python",
   "name": "python",
   "nbconvert_exporter": "python",
   "pygments_lexer": "ipython3",
   "version": "3.9.0"
  }
 },
 "nbformat": 4,
 "nbformat_minor": 5
}
